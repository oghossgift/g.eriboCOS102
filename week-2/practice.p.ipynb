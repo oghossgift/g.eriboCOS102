{
 "cells": [
  {
   "cell_type": "code",
   "execution_count": 3,
   "metadata": {},
   "outputs": [
    {
     "name": "stdout",
     "output_type": "stream",
     "text": [
      "Your state of origin is:  Calabar\n",
      "The first character is:  C\n",
      "The characters starting from the 3rd to the 5th are:  lab\n",
      "the characters starting from the 3rd character is:  \n",
      "State of origin two times:  CalabarCalabar\n"
     ]
    }
   ],
   "source": [
    "str = input(\"Enter your state of origin: \")\n",
    "\n",
    "print(\"Your state of origin is: \", str)\n",
    "print(\"The first character is: \", str[0])\n",
    "print(\"The characters starting from the 3rd to the 5th are: \",str[2:5])\n",
    "print ('the characters starting from the 3rd character is: ', str[2:0])\n",
    "print (\"State of origin two times: \", str * 2)\n"
   ]
  },
  {
   "cell_type": "code",
   "execution_count": 4,
   "metadata": {},
   "outputs": [
    {
     "name": "stdout",
     "output_type": "stream",
     "text": [
      "The energy equivalent to 2000.0 kg of mass is 1.7975103574736352e+20 joules.\n"
     ]
    }
   ],
   "source": [
    "#Input from user\n",
    "m = float(input('Enter mass in kilograms'))\n",
    "\n",
    "#Constant value for the speed of light in m/s\n",
    "c = 299792458\n",
    "\n",
    "#Calculating energy using Einstein's equation\n",
    "energy = m * c ** 2\n",
    "\n",
    "#Displaying the result \n",
    "print(f\"The energy equivalent to {m} kg of mass is {energy} joules.\")"
   ]
  },
  {
   "cell_type": "code",
   "execution_count": 5,
   "metadata": {},
   "outputs": [
    {
     "name": "stdout",
     "output_type": "stream",
     "text": [
      "['Anaconda', 786, 2.23, 'Jupyter', 70.2]\n",
      "Anaconda\n",
      "[786, 2.23]\n",
      "[2.23, 'Jupyter', 70.2]\n",
      "[321, 'Python', 321, 'Python']\n",
      "['Anaconda', 786, 2.23, 'Jupyter', 70.2, 321, 'Python']\n"
     ]
    }
   ],
   "source": [
    "list = [ 'Anaconda', 786, 2.23, 'Jupyter', 70.2]\n",
    "shortlist = [ 321, 'Python']\n",
    "\n",
    "print(list)             #prints the complete list\n",
    "print(list[0])          #prints first element of the list\n",
    "print(list[1:3])        #prints elements starting from the 2nd till 3rd\n",
    "print(list[2:])         #prints elements starting from the 3rd element\n",
    "print(shortlist * 2)    #prints list two times\n",
    "print(list + shortlist) #prints concatenated lists"
   ]
  },
  {
   "cell_type": "code",
   "execution_count": 6,
   "metadata": {},
   "outputs": [
    {
     "name": "stdout",
     "output_type": "stream",
     "text": [
      "('Ekiti', 750, 'Oshogbo', 250, 'Akure', 500)\n",
      "500\n",
      "('Oshogbo', 250)\n",
      "(250, 'Akure', 500)\n",
      "('Abeokuta', 300, 'Ogbomoso', 'Abeokuta', 300, 'Ogbomoso')\n",
      "('Ekiti', 750, 'Oshogbo', 250, 'Akure', 500, 'Abeokuta', 300, 'Ogbomoso')\n"
     ]
    }
   ],
   "source": [
    "tuple = (\"Ekiti\", 750, \"Oshogbo\", 250, \"Akure\", 500)\n",
    "s_tuple = ('Abeokuta', 300, \"Ogbomoso\")\n",
    "\n",
    "#Prints the ccomplete tuple\n",
    "print(tuple)\n",
    "\n",
    "#prints last element of the tuple \n",
    "print (tuple[-1])\n",
    "\n",
    "#Prints elements of  the tuple \n",
    "print(tuple[2:4])       \n",
    "\n",
    "#prints elements of the tuple starting from the 3rd element\n",
    "print(tuple[3:])  \n",
    "\n",
    "#prints the content of the tuple twice\n",
    "print(s_tuple * 2)    \n",
    "\n",
    "#prints concatenated tuples\n",
    "print(tuple + s_tuple) "
   ]
  },
  {
   "cell_type": "code",
   "execution_count": 7,
   "metadata": {},
   "outputs": [
    {
     "name": "stdout",
     "output_type": "stream",
     "text": [
      "False\n",
      "False\n",
      "False\n",
      "False\n",
      "True\n"
     ]
    }
   ],
   "source": [
    "#Returns false as game_1 is not equal to game_2\n",
    "game_1 = 2\n",
    "game_2 = 4\n",
    "print(bool(game_1 == game_2))\n",
    "#or\n",
    "print(game_1==game_2)\n",
    "\n",
    "#Returns false as val is none\n",
    "val = None\n",
    "print(bool(val))\n",
    "\n",
    "#Returns false as num is an empty sequence\n",
    "num = ()\n",
    "print(bool(num))\n",
    "\n",
    "#Returns true as age is boolean\n",
    "age = True\n",
    "print(bool(age))\n",
    "\n",
    "\n"
   ]
  },
  {
   "cell_type": "code",
   "execution_count": 10,
   "metadata": {},
   "outputs": [
    {
     "name": "stdout",
     "output_type": "stream",
     "text": [
      "Grade = 70\n",
      "GPA = 4\n",
      "CGPA = 4\n"
     ]
    }
   ],
   "source": [
    "# Convert to int\n",
    "grade = int(70)\n",
    "gpa = int(4.9)\n",
    "cgpa = int(\"4\")\n",
    "\n",
    "print(f\"Grade = {grade}\")\n",
    "print(f\"GPA = {gpa}\")\n",
    "print(f\"CGPA = {cgpa}\")\n"
   ]
  },
  {
   "cell_type": "code",
   "execution_count": 11,
   "metadata": {},
   "outputs": [
    {
     "name": "stdout",
     "output_type": "stream",
     "text": [
      "Grade = 97.0\n",
      "GPA = 5.0\n",
      "CGPA = 4.7\n"
     ]
    }
   ],
   "source": [
    "# Convert to float\n",
    "grade = float(97)\n",
    "gpa = float(5)\n",
    "cgpa = float(\"4.7\")\n",
    "\n",
    "print(f\"Grade = {grade}\")\n",
    "print(f\"GPA = {gpa}\")\n",
    "print(f\"CGPA = {cgpa}\")\n"
   ]
  }
 ],
 "metadata": {
  "kernelspec": {
   "display_name": "Python 3",
   "language": "python",
   "name": "python3"
  },
  "language_info": {
   "codemirror_mode": {
    "name": "ipython",
    "version": 3
   },
   "file_extension": ".py",
   "mimetype": "text/x-python",
   "name": "python",
   "nbconvert_exporter": "python",
   "pygments_lexer": "ipython3",
   "version": "3.9.10"
  }
 },
 "nbformat": 4,
 "nbformat_minor": 2
}

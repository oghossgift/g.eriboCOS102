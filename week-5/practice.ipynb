{
 "cells": [
  {
   "cell_type": "markdown",
   "id": "4bf34105",
   "metadata": {},
   "source": [
    "TKINTER APPLICATION 1 "
   ]
  },
  {
   "cell_type": "code",
   "execution_count": 2,
   "id": "ca2b7741",
   "metadata": {},
   "outputs": [],
   "source": [
    "import tkinter as tk\n",
    "from tkinter import messagebox as msgbox\n",
    "#Handling button click event\n",
    "def button_click():\n",
    "    #print(\"Button click\")\n",
    "    \n",
    "    #Show an information message box\n",
    "    msgbox.showinfo(\"Info\", \"Welcome to COS102 GUI App!\\n\")\n",
    "\n",
    "    #Ask for user confirmation\n",
    "    result = msgbox.askyesno(\"Confirmation\", \"Do you want to continue?\")\n",
    "\n",
    "#Create the main window\n",
    "root= tk.Tk()\n",
    "root.title(\"Home Page\")\n",
    "root.geometry(\"300x100\")\n",
    "\n",
    "#Add a label widget\n",
    "label = tk.Label(root, text=\"Hello Friend \\n \")\n",
    "label.pack()\n",
    "\n",
    "#Add a button widget\n",
    "button = tk.Button(root, text=\"Click Me!\", command=button_click)\n",
    "button.pack()\n",
    "\n",
    "#styling the button widget\n",
    "button.config  (fg=\"red\", bg=\"yellow\")\n",
    "\n",
    "#Start the event loop\n",
    "root.mainloop()"
   ]
  },
  {
   "cell_type": "markdown",
   "id": "905e0596",
   "metadata": {},
   "source": [
    "TKINTER APPLICATION 2"
   ]
  },
  {
   "cell_type": "code",
   "execution_count": 7,
   "id": "e97bc204",
   "metadata": {},
   "outputs": [
    {
     "name": "stderr",
     "output_type": "stream",
     "text": [
      "Exception in Tkinter callback\n",
      "Traceback (most recent call last):\n",
      "  File \"C:\\Program Files\\WindowsApps\\PythonSoftwareFoundation.Python.3.11_3.11.2544.0_x64__qbz5n2kfra8p0\\Lib\\tkinter\\__init__.py\", line 1967, in __call__\n",
      "    return self.func(*args)\n",
      "           ^^^^^^^^^^^^^^^^\n",
      "  File \"C:\\Users\\USER\\AppData\\Local\\Temp\\ipykernel_21432\\3000863419.py\", line 24, in submit\n",
      "    welcomeMessage(username)\n",
      "  File \"C:\\Users\\USER\\AppData\\Local\\Temp\\ipykernel_21432\\3000863419.py\", line 11, in welcomeMessage\n",
      "    label_1 = tk.label(window, text=f\"Window {username}\\n\")\n",
      "              ^^^^^^^^\n",
      "AttributeError: module 'tkinter' has no attribute 'label'\n"
     ]
    }
   ],
   "source": [
    "import tkinter as tk\n",
    "from tkinter import messagebox\n",
    "from PIL import Image, ImageTk\n",
    "\n",
    "def welcomeMessage(username):\n",
    "    #Create a Tkinter window\n",
    "    window = tk.Toplevel(root)\n",
    "    window.title(\"Admin Box\")\n",
    "    window.geometry(\"500x200\")\n",
    "\n",
    "    label_1 = tk.label(window, text=f\"Window {username}\\n\")\n",
    "    label_1.pack()\n",
    "    label_2 = tk.label(window, text=\"This is Python GUI with Tkinter\")\n",
    "    label_2.pack()\n",
    "\n",
    "    #Run the Tkinter event loop\n",
    "    root.mainloop()\n",
    "\n",
    "def submit():\n",
    "    username = username_entry.get()\n",
    "    password = password_entry.get()\n",
    "\n",
    "    if username ==\"Mary\" and password == \"cos102\":\n",
    "        welcomeMessage(username)\n",
    "    else:\n",
    "        messagebox.showerror(\"Login\", \"Invalid username or password\")\n",
    "        \n",
    "#Create main window\n",
    "root = tk.Tk()\n",
    "root.title(\"Login Form\")\n",
    "root.geometry(\"500x200\")\n",
    "\n",
    "#Create username label and entry\n",
    "username_label =tk.Label(root, text=\"Username:\")\n",
    "username_label.pack()\n",
    "username_entry = tk.Entry(root)\n",
    "username_entry.pack()\n",
    "\n",
    "#Create password label and entry\n",
    "password_label = tk.Label(root, text=\"Password:\")\n",
    "password_label.pack()\n",
    "password_entry = tk.Entry(root, show = \"*\")\n",
    "password_entry.pack()\n",
    "\n",
    "#Craete submit button\n",
    "submit_button = tk.Button(root, text=\"Submit\", command=submit)\n",
    "submit_button.pack()\n",
    "\n",
    "#Run the main event loop\n",
    "root.mainloop()\n",
    "\n",
    "\n",
    "\n"
   ]
  }
 ],
 "metadata": {
  "kernelspec": {
   "display_name": "Python 3",
   "language": "python",
   "name": "python3"
  },
  "language_info": {
   "codemirror_mode": {
    "name": "ipython",
    "version": 3
   },
   "file_extension": ".py",
   "mimetype": "text/x-python",
   "name": "python",
   "nbconvert_exporter": "python",
   "pygments_lexer": "ipython3",
   "version": "3.11.9"
  }
 },
 "nbformat": 4,
 "nbformat_minor": 5
}

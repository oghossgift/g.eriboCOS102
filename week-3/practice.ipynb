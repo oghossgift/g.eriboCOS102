{
 "cells": [
  {
   "cell_type": "code",
   "execution_count": 4,
   "metadata": {},
   "outputs": [
    {
     "name": "stdout",
     "output_type": "stream",
     "text": [
      "10\n",
      "20\n",
      "30\n",
      "40\n",
      "50\n"
     ]
    }
   ],
   "source": [
    "#Print the given sequence of numbers using for loop\n",
    "count = [10,20,30,40,50]\n",
    "for num in count:\n",
    "    print(num)\n"
   ]
  },
  {
   "cell_type": "markdown",
   "metadata": {},
   "source": [
    " EXAMPLE 2"
   ]
  },
  {
   "cell_type": "code",
   "execution_count": 5,
   "metadata": {},
   "outputs": [
    {
     "name": "stdout",
     "output_type": "stream",
     "text": [
      "10\n",
      "20\n",
      "30\n",
      "40\n"
     ]
    }
   ],
   "source": [
    "#Print multiples of 10 for numbers in a given range\n",
    "for num in range(5):\n",
    "    if num > 0:\n",
    "        print(num * 10)\n"
   ]
  },
  {
   "cell_type": "markdown",
   "metadata": {},
   "source": [
    "EXAMPLE 3"
   ]
  },
  {
   "cell_type": "code",
   "execution_count": 15,
   "metadata": {},
   "outputs": [
    {
     "name": "stdout",
     "output_type": "stream",
     "text": [
      "1\n",
      "2\n",
      "3\n",
      "4\n",
      "5\n"
     ]
    }
   ],
   "source": [
    "#Print first 5 natural numbers using while loop\n",
    "count = 1\n",
    "while count <= 5:\n",
    "    print(count)\n",
    "    count += 1\n",
    "   "
   ]
  },
  {
   "cell_type": "markdown",
   "metadata": {},
   "source": [
    "EXAMPLE 4"
   ]
  },
  {
   "cell_type": "code",
   "execution_count": 20,
   "metadata": {},
   "outputs": [
    {
     "name": "stdout",
     "output_type": "stream",
     "text": [
      "Enter numbers to find their sum, negative number ends the loop:\n",
      "Sum = 2\n",
      "Sum = 5\n",
      "Sum = 9\n",
      "Sum = 14\n",
      "Sum = 19\n",
      "Sum = 20\n"
     ]
    }
   ],
   "source": [
    "entry = 0 \n",
    "sum1 = 0\n",
    "print('Enter numbers to find their sum, negative number ends the loop:')\n",
    "while True :\n",
    "    #int() typecasts string to integer\n",
    "    entry = int(input())\n",
    "    if (entry < 0):\n",
    "        break\n",
    "    sum1 += entry\n",
    "    print('Sum =', sum1)"
   ]
  },
  {
   "cell_type": "markdown",
   "metadata": {},
   "source": [
    "EXAMPLE 5"
   ]
  },
  {
   "cell_type": "code",
   "execution_count": 21,
   "metadata": {},
   "outputs": [
    {
     "name": "stdout",
     "output_type": "stream",
     "text": [
      "Num has value 1\n",
      "Num has value 2\n",
      "Num has value 4\n",
      "Num has value 5\n",
      "Num has value 6\n",
      "End of loop\n"
     ]
    }
   ],
   "source": [
    "num = 0\n",
    "for num in range(6):\n",
    "    num = num + 1\n",
    "    if num == 3:\n",
    "        continue\n",
    "    print(\"Num has value \" + str(num))\n",
    "print(\"End of loop\")\n"
   ]
  },
  {
   "cell_type": "markdown",
   "metadata": {},
   "source": [
    "EXAMPLE 6"
   ]
  },
  {
   "cell_type": "code",
   "execution_count": 22,
   "metadata": {},
   "outputs": [
    {
     "name": "stdout",
     "output_type": "stream",
     "text": [
      "Iteration 1 of outer loop\n",
      "1\n",
      "2\n",
      "Out of inner loop\n",
      "Iteration 2 of outer loop\n",
      "1\n",
      "2\n",
      "Out of inner loop\n",
      "Iteration 3 of outer loop\n",
      "1\n",
      "2\n",
      "Out of inner loop\n",
      "Out of outer loop\n"
     ]
    }
   ],
   "source": [
    "for var1 in range(3):\n",
    "    print( \"Iteration \" + str(var1 + 1) + \" of outer loop\")\n",
    "    for var2 in range(2): #nested loop\n",
    "        print(var2 + 1)\n",
    "    print(\"Out of inner loop\")\n",
    "print(\"Out of outer loop\")\n"
   ]
  },
  {
   "cell_type": "markdown",
   "metadata": {},
   "source": [
    "PRACTICE 1"
   ]
  },
  {
   "cell_type": "code",
   "execution_count": 23,
   "metadata": {},
   "outputs": [
    {
     "name": "stdout",
     "output_type": "stream",
     "text": [
      "The name of City 1 after swapping is IJEBU\n",
      "The name of City 2 after swapping is IKEJA\n"
     ]
    }
   ],
   "source": [
    "#Python program to swap two cities\n",
    "\n",
    "#To take inputs from the user \n",
    "city_1 = input('Enter name of city 1: ')\n",
    "city_2 = input('Enter name of city 2: ')\n",
    "\n",
    "#create a temporary variable and swap the cities\n",
    "temp = city_1\n",
    "city_1 = city_2\n",
    "city_2 = temp\n",
    "\n",
    "print(f'The name of City 1 after swapping is {city_1}')\n",
    "print(f'The name of City 2 after swapping is {city_2}')\n"
   ]
  },
  {
   "cell_type": "markdown",
   "metadata": {},
   "source": [
    "PRACTICE 2"
   ]
  },
  {
   "cell_type": "code",
   "execution_count": 25,
   "metadata": {},
   "outputs": [
    {
     "name": "stdout",
     "output_type": "stream",
     "text": [
      "Negative number\n"
     ]
    }
   ],
   "source": [
    "#Program to check if a number is positive, negative or 0\n",
    "\n",
    "num = float(input('Enter a number: '))\n",
    "if num > 0:\n",
    "    print(\"Positive number\")\n",
    "elif num == 0:\n",
    "    print('Zero')\n",
    "else:\n",
    "    print(\"Negative number\")\n"
   ]
  },
  {
   "cell_type": "markdown",
   "metadata": {},
   "source": [
    "PRACTICE 3"
   ]
  },
  {
   "cell_type": "code",
   "execution_count": 34,
   "metadata": {},
   "outputs": [
    {
     "name": "stdout",
     "output_type": "stream",
     "text": [
      "Welcome to the COUPE DE ESCRIVA 2023: FOOTBALL PICKS\n",
      "\n",
      "Madiba:  Chubby Obiora-Okafo\n",
      "Blue-Jays:  Christopher Uweh\n",
      "Cirok:  Alexander\n",
      "TSG Walkers:  Ikechukwu\n",
      "\n",
      "\n",
      "Madiba:  Chubby Obiora-Okafo\n",
      "Blue-Jays:  Oladimeji Abaniwondea/Jeffery Awagu\n",
      "Cirok:  Timileyin Pearse/Izuako Jeremy\n",
      "TSG Walkers:  Ayomide Ojituku\n"
     ]
    }
   ],
   "source": [
    "#COUPE DE ESCRIVE 2023: FOOTBALL PICKS\n",
    "\n",
    "print('Welcome to the COUPE DE ESCRIVA 2023: FOOTBALL PICKS\\n')\n",
    "captain = {'Madiba: ' : 'Chubby Obiora-Okafo', 'Blue-Jays: ' : 'Christopher Uweh', 'Cirok: ': 'Alexander', 'TSG Walkers: ': 'Ikechukwu'}\n",
    "goalkeepers = {'Madiba: ' : 'Chubby Obiora-Okafo', 'Blue-Jays: ' : 'Oladimeji Abaniwondea/Jeffery Awagu', 'Cirok: ': 'Timileyin Pearse/Izuako Jeremy', 'TSG Walkers: ': 'Ayomide Ojituku'}\n",
    "\n",
    "for pick in captain:\n",
    "    print(pick,captain[pick])\n",
    "\n",
    "print(\"\\n\")\n",
    "\n",
    "for pick in goalkeepers:\n",
    "    print(pick, goalkeepers[pick])\n"
   ]
  },
  {
   "cell_type": "markdown",
   "metadata": {},
   "source": [
    "    CLASS PROJECT 1"
   ]
  },
  {
   "cell_type": "code",
   "execution_count": 36,
   "metadata": {},
   "outputs": [
    {
     "name": "stdout",
     "output_type": "stream",
     "text": [
      "\n",
      "GIRLS TABLE\n",
      "Name       | Age | Height | Score\n",
      "---------------------------------\n",
      "Evelyn     | 17  | 5.5    | 80 \n",
      "Jessica    | 16  | 6.0    | 85 \n",
      "Somto      | 17  | 5.4    | 70 \n",
      "Edith      | 18  | 5.9    | 60 \n",
      "Liza       | 16  | 5.6    | 76 \n",
      "Madonna    | 18  | 5.5    | 66 \n",
      "Waje       | 17  | 6.1    | 87 \n",
      "Tola       | 20  | 6.0    | 95 \n",
      "Aisha      | 19  | 5.7    | 50 \n",
      "Latifa     | 17  | 5.5    | 49 \n",
      "\n",
      "BOYS TABLE\n",
      "Name       | Age | Height | Score\n",
      "---------------------------------\n",
      "Chinedu    | 19  | 5.7    | 74 \n",
      "Liam       | 16  | 5.9    | 87 \n",
      "Wale       | 18  | 5.8    | 75 \n",
      "Gbenga     | 17  | 6.1    | 68 \n",
      "Abiola     | 20  | 5.9    | 66 \n",
      "Kola       | 19  | 5.5    | 78 \n",
      "Kunle      | 16  | 6.1    | 87 \n",
      "George     | 18  | 5.4    | 98 \n",
      "Thomas     | 17  | 5.8    | 54 \n",
      "Wesley     | 19  | 5.7    | 60 \n"
     ]
    }
   ],
   "source": [
    "# Girls Data\n",
    "girl_names = [\"Evelyn\", \"Jessica\", \"Somto\", \"Edith\", \"Liza\", \"Madonna\", \"Waje\", \"Tola\", \"Aisha\", \"Latifa\"]\n",
    "girl_ages = [17, 16, 17, 18, 16, 18, 17, 20, 19, 17]\n",
    "girl_heights = [5.5, 6.0, 5.4, 5.9, 5.6, 5.5, 6.1, 6.0, 5.7, 5.5]\n",
    "girl_scores = [80, 85, 70, 60, 76, 66, 87, 95, 50, 49]\n",
    "\n",
    "# Boys Data\n",
    "boy_names = [\"Chinedu\", \"Liam\", \"Wale\", \"Gbenga\", \"Abiola\", \"Kola\", \"Kunle\", \"George\", \"Thomas\", \"Wesley\"]\n",
    "boy_ages = [19, 16, 18, 17, 20, 19, 16, 18, 17, 19]\n",
    "boy_heights = [5.7, 5.9, 5.8, 6.1, 5.9, 5.5, 6.1, 5.4, 5.8, 5.7]\n",
    "boy_scores = [74, 87, 75, 68, 66, 78, 87, 98, 54, 60]\n",
    "\n",
    "# Print Girls Table\n",
    "print(\"\\nGIRLS TABLE\")\n",
    "print(\"Name       | Age | Height | Score\")\n",
    "print(\"---------------------------------\")\n",
    "for i in range(len(girl_names)):\n",
    "    print(f\"{girl_names[i]:<10} | {girl_ages[i]:<3} | {girl_heights[i]:<6} | {girl_scores[i]:<3}\")\n",
    "\n",
    "# Print Boys Table\n",
    "print(\"\\nBOYS TABLE\")\n",
    "print(\"Name       | Age | Height | Score\")\n",
    "print(\"---------------------------------\")\n",
    "for i in range(len(boy_names)):\n",
    "    print(f\"{boy_names[i]:<10} | {boy_ages[i]:<3} | {boy_heights[i]:<6} | {boy_scores[i]:<3}\")\n"
   ]
  },
  {
   "cell_type": "markdown",
   "metadata": {},
   "source": [
    "CLASS PROJECT 2"
   ]
  },
  {
   "cell_type": "code",
   "execution_count": 45,
   "metadata": {},
   "outputs": [
    {
     "name": "stdout",
     "output_type": "stream",
     "text": [
      "Annual Tax Revenue (ATR) : N1500000\n"
     ]
    }
   ],
   "source": [
    "experience = int(input(\"Enter years of experience: \"))\n",
    "age = int(input(\"Enter age of staff: \"))\n",
    "\n",
    "if experience > 25 and age >= 55 :\n",
    "    atr = 5_600_000\n",
    "elif experience > 20 and age >+ 45 :\n",
    "    atr = 4_480_000\n",
    "elif experience > 10 and age >= 35 :\n",
    "    atr = 1_500_000\n",
    "else:\n",
    "    atr = 500_000\n",
    "\n",
    "print(f'Annual Tax Revenue (ATR) : N{atr}')\n"
   ]
  }
 ],
 "metadata": {
  "kernelspec": {
   "display_name": "Python 3",
   "language": "python",
   "name": "python3"
  },
  "language_info": {
   "codemirror_mode": {
    "name": "ipython",
    "version": 3
   },
   "file_extension": ".py",
   "mimetype": "text/x-python",
   "name": "python",
   "nbconvert_exporter": "python",
   "pygments_lexer": "ipython3",
   "version": "3.9.10"
  }
 },
 "nbformat": 4,
 "nbformat_minor": 2
}

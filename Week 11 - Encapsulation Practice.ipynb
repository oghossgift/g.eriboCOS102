{
 "cells": [
  {
   "cell_type": "markdown",
   "metadata": {},
   "source": [
    "# Encapsulation in Python"
   ]
  },
  {
   "cell_type": "markdown",
   "metadata": {},
   "source": [
    "<ul><li>Encapsulation is the concept of bundling data and methods within a single unit. For example, when you create a class, it means you are implementing encapsulation. A class is an example of encapsulation as it binds all the data members (instance variables) and methods into a single unit.</li><li>\n",
    "\n",
    "Using encapsulation, we can hide an object’s internal representation from the outside. This is called information hiding.</li><li>\n",
    "\n",
    "Encapsulation allows us to restrict accessing variables and methods directly and prevent accidental data modification by creating private data members and methods within a class.</li><li>\n",
    "\n",
    "Encapsulation is a way to restrict access to methods and variables from outside of class. Whenever working with the class and dealing with sensitive data, providing access to all variables used within the class is not a good choice.</li></ul>"
   ]
  },
  {
   "cell_type": "code",
   "execution_count": 18,
   "metadata": {},
   "outputs": [
    {
     "name": "stdout",
     "output_type": "stream",
     "text": [
      "\n",
      "Name:  i \n",
      "Salary: N877\n",
      "i is working on ggh\n"
     ]
    }
   ],
   "source": [
    "# A program that displays employees information\n",
    "\n",
    "class Employee():\n",
    "    \n",
    "    # constructor\n",
    "    def __init__(self, name, salary, project):        \n",
    "        # instance variables\n",
    "        self.name = name\n",
    "        self.salary = salary\n",
    "        self.project = project\n",
    "\n",
    "    # method to display employee's details\n",
    "    def show(self): \n",
    "\n",
    "        # accessing public instance variables\n",
    "        print(\"\\nName: \" , self.name, '\\nSalary:', \"N\"+str(self.salary))\n",
    "\n",
    "    # method\n",
    "    def work(self):\n",
    "       \n",
    "        print(self.name, 'is working on', self.project)\n",
    "\n",
    "\n",
    "name = input(\"Enter your name: \")\n",
    "salary = int(input(\"How much do you earn: \"))\n",
    "project = input(\"What project are you working on: \")\n",
    "\n",
    "# creating object of a class\n",
    "emp = Employee(name, salary, project)\n",
    "\n",
    "# calling public method of the class\n",
    "emp.show()\n",
    "emp.work()"
   ]
  },
  {
   "cell_type": "markdown",
   "metadata": {},
   "source": [
    "## Access Modifiers in Python"
   ]
  },
  {
   "cell_type": "markdown",
   "metadata": {},
   "source": [
    "<ul><li>Encapsulation can be achieved by declaring the data members and methods of a class either as private or protected.</li><li> In Python, there is no direct access modifiers like public, private, and protected. </li><li>This can achieve by using single underscore and double underscores.</li></ul>\n",
    "\n",
    "Access modifiers limit access to the variables and methods of a class. Python provides three types of access modifiers private, public, and protected.\n",
    "\n",
    "<ul><li><b>Public Instance Variable:</b> Accessible anywhere from outside oclass.</li><li>\n",
    "    <b>Private Instance Variable:</b> Accessible within the class.</li><li>\n",
    "    <b>Protected Instance Variable:</b> Accessible within the class and its sub-classes.</li></ul>"
   ]
  },
  {
   "cell_type": "markdown",
   "metadata": {},
   "source": [
    "### Public Instance Variable\n",
    "Public instance variables are accessible within and outside of a class. All member variables of the class are by default public."
   ]
  },
  {
   "cell_type": "code",
   "execution_count": 6,
   "metadata": {},
   "outputs": [
    {
     "name": "stdout",
     "output_type": "stream",
     "text": [
      "Name:  Abdurrahman Salary: N500000\n",
      "Name: Abdurrahman, Salary: 500000\n"
     ]
    }
   ],
   "source": [
    "class Employee:\n",
    "    \n",
    "    # constructor\n",
    "    def __init__(self, name, salary):        \n",
    "        # public instance variables\n",
    "        self.name = name\n",
    "        self.salary = salary\n",
    "\n",
    "    # public instance methods\n",
    "    def show(self):\n",
    "        # accessing public instance variables\n",
    "        print(\"Name: {}, Salary: {}\".format(self.name, self.salary))\n",
    "\n",
    "# creating object of a class\n",
    "emp = Employee('Abdurrahman', 500000)\n",
    "\n",
    "# accessing public instance variables\n",
    "print(\"Name: \", emp.name, 'Salary:', \"N{}\".format(emp.salary))\n",
    "\n",
    "# calling public method of the class\n",
    "emp.show()"
   ]
  },
  {
   "cell_type": "markdown",
   "metadata": {},
   "source": [
    "### Private Instance Variable\n",
    "<ul><li>Protect variables in the class by marking them private. To define a private variable add two underscores as a prefix at the start of a variable name.</li><li>\n",
    "\n",
    "Private instance variables are accessible only within the class, and we can’t access them directly from the class objects.</li></ul>"
   ]
  },
  {
   "cell_type": "code",
   "execution_count": 22,
   "metadata": {},
   "outputs": [
    {
     "name": "stdout",
     "output_type": "stream",
     "text": [
      "Name:  Ugochi Mbaekwe\n",
      "Salary: 10000\n"
     ]
    }
   ],
   "source": [
    "class Employee:\n",
    "    \n",
    "    # constructor\n",
    "    def __init__(self, name, salary):        \n",
    "        # public instance variable\n",
    "        self.name = name\n",
    "        \n",
    "        # private variable\n",
    "        self.salary = salary\n",
    "\n",
    "# creating object of a class\n",
    "emp = Employee('Ugochi Mbaekwe', 10000)\n",
    "\n",
    "# accessing public instance variables\n",
    "print(\"Name: \", emp.name)\n",
    "\n",
    "# accessing private instance variable\n",
    "print('Salary:', emp.salary)"
   ]
  },
  {
   "cell_type": "markdown",
   "metadata": {},
   "source": [
    "To access private members from outside of a class using the following two approaches\n",
    "\n",
    "<ul><li>Create public method to access private members</li><li>\n",
    "Use name mangling</li></ul>"
   ]
  },
  {
   "cell_type": "markdown",
   "metadata": {},
   "source": [
    "#### Access Private member outside of a class using an instance method"
   ]
  },
  {
   "cell_type": "code",
   "execution_count": 25,
   "metadata": {},
   "outputs": [
    {
     "name": "stdout",
     "output_type": "stream",
     "text": [
      "Name:  Chikaodi Chinaka \n",
      "Salary: 250000\n"
     ]
    }
   ],
   "source": [
    "class Employee:\n",
    "    \n",
    "    # constructor\n",
    "    def __init__(self, name, salary):        \n",
    "        # public data member\n",
    "        self.name = name\n",
    "        \n",
    "        # private member\n",
    "        self.salary = salary\n",
    "\n",
    "    # public instance methods\n",
    "    def show(self):\n",
    "        # private members are accessible from a class\n",
    "        print(\"Name: \", self.name, '\\nSalary:', self.salary)\n",
    "\n",
    "# creating object of a class\n",
    "emp = Employee('Chikaodi Chinaka', 250000)\n",
    "\n",
    "# calling public method of the class\n",
    "emp.show()"
   ]
  },
  {
   "cell_type": "markdown",
   "metadata": {},
   "source": [
    "#### Name Mangling to access private members\n",
    "<ul><li>Private and protected variables can be directly accessed from outside of a class through name mangling.</li><li> The name mangling is created on an identifier by adding two leading underscores and one trailing underscore, like this <b>_classname__dataMember</b>, where <b><i>classname</i></b> is the current class, and data member is the private variable name.</li></ul>"
   ]
  },
  {
   "cell_type": "code",
   "execution_count": 28,
   "metadata": {},
   "outputs": [
    {
     "name": "stdout",
     "output_type": "stream",
     "text": [
      "Name: Oyindamola Apampa\n",
      "Salary: N900000\n"
     ]
    }
   ],
   "source": [
    "class Employee:\n",
    "    # constructor\n",
    "    def __init__(self, name, salary):\n",
    "        # public instance variable\n",
    "        self.name = name\n",
    "        \n",
    "        # private variable\n",
    "        self.salary = salary\n",
    "\n",
    "# creating object of a class\n",
    "emp = Employee('Oyindamola Apampa', 900000)\n",
    "\n",
    "#direct access to public instance variable\n",
    "print('Name:', emp.name)\n",
    "\n",
    "# direct access to private instance variable using name mangling\n",
    "print('Salary:', \"N\"+str(emp.salary))"
   ]
  },
  {
   "cell_type": "markdown",
   "metadata": {},
   "source": [
    "### Protected Instance Variable\n",
    "<ul><li>Protected instance variables are accessible within the class and also available to its sub-classes. </li><li>To define a protected variable, prefix the variable name with a single underscore <b>_</b>.</li><li>\n",
    "\n",
    "Protected instance variables are used when you implement inheritance and want to allow data members access to only child classes.</li></ul>"
   ]
  },
  {
   "cell_type": "code",
   "execution_count": 30,
   "metadata": {},
   "outputs": [
    {
     "name": "stdout",
     "output_type": "stream",
     "text": [
      "Employee name : Prince Ibekwe\n",
      "Working on project : Blockchain Development\n",
      "Project: Blockchain Development\n"
     ]
    }
   ],
   "source": [
    "# base class\n",
    "class Company:\n",
    "    # base constructor\n",
    "    def __init__(self):\n",
    "        # Protected instance variable\n",
    "        self.project = \"Blockchain Development\"\n",
    "\n",
    "# child class\n",
    "class Employee(Company):\n",
    "    # child constructor\n",
    "    def __init__(self, name):\n",
    "        self.name = name\n",
    "        \n",
    "        # invoke base constructor\n",
    "        Company.__init__(self)\n",
    "\n",
    "    def show(self):\n",
    "        print(\"Employee name :\", self.name)\n",
    "        \n",
    "        # Accessing protected instance variable in child class\n",
    "        print(\"Working on project :\", self.project)\n",
    "\n",
    "c = Employee(\"Prince Ibekwe\")\n",
    "c.show()\n",
    "\n",
    "# Direct access to protected instance variable\n",
    "print('Project:', c.project)"
   ]
  },
  {
   "cell_type": "markdown",
   "metadata": {},
   "source": [
    "## Getters and Setters in Python\n",
    "<ul><li>To implement proper encapsulation in Python, setters and getters can be used.</li><li> The primary purpose of using getters and setters in object-oriented programs is to ensure data encapsulation.</li><li> Use the getter method to access instance variables and the setter methods to modify the instance variables.</li></ul>\n",
    "\n",
    "In Python, private variables are not hidden fields like in other programming languages. The getters and setters methods are often used when:\n",
    "\n",
    "<ul><li>When we want to avoid direct access to private variables</li><li>\n",
    "To add validation logic for setting a value</li></ul>"
   ]
  },
  {
   "cell_type": "code",
   "execution_count": 41,
   "metadata": {},
   "outputs": [
    {
     "name": "stdout",
     "output_type": "stream",
     "text": [
      "Name: Michael Illoba \n",
      "Age:34\n",
      "\n",
      "Name: Michael Illoba \n",
      "Age: 26\n"
     ]
    }
   ],
   "source": [
    "class Student:\n",
    "    def __init__(self, name, age):\n",
    "        # public instance variable\n",
    "        self.name = name\n",
    "        # private instance variable\n",
    "        self.age = age\n",
    "\n",
    "    # getter method\n",
    "    def git_age(self):\n",
    "        return self.age\n",
    "\n",
    "    # setter method\n",
    "    def sit_age(self, age):\n",
    "        self.age = age\n",
    "\n",
    "stud = Student('Michael Illoba', 34)\n",
    "\n",
    "# retrieving age using getter\n",
    "print(f\"Name: {stud.name}\", f\"\\nAge:{stud.age}\")\n",
    "\n",
    "# changing age using setter\n",
    "stud.sit_age(26)\n",
    "\n",
    "# retrieving age using getter\n",
    "print('\\nName:', stud.name, \"\\nAge:\", stud.git_age())"
   ]
  },
  {
   "cell_type": "code",
   "execution_count": 45,
   "metadata": {},
   "outputs": [
    {
     "ename": "AttributeError",
     "evalue": "'Student' object has no attribute 'roll_no'",
     "output_type": "error",
     "traceback": [
      "\u001b[31m---------------------------------------------------------------------------\u001b[39m",
      "\u001b[31mAttributeError\u001b[39m                            Traceback (most recent call last)",
      "\u001b[36mCell\u001b[39m\u001b[36m \u001b[39m\u001b[32mIn[45]\u001b[39m\u001b[32m, line 29\u001b[39m\n\u001b[32m     26\u001b[39m info = Student(\u001b[33m'\u001b[39m\u001b[33mDavid Usim\u001b[39m\u001b[33m'\u001b[39m, \u001b[32m10\u001b[39m, \u001b[32m15\u001b[39m)\n\u001b[32m     28\u001b[39m \u001b[38;5;66;03m# before Modify\u001b[39;00m\n\u001b[32m---> \u001b[39m\u001b[32m29\u001b[39m \u001b[43minfo\u001b[49m\u001b[43m.\u001b[49m\u001b[43mshow\u001b[49m\u001b[43m(\u001b[49m\u001b[43m)\u001b[49m\n\u001b[32m     31\u001b[39m \u001b[38;5;66;03m# changing roll number using setter\u001b[39;00m\n\u001b[32m     32\u001b[39m info.set_roll_no(\u001b[32m120\u001b[39m)\n",
      "\u001b[36mCell\u001b[39m\u001b[36m \u001b[39m\u001b[32mIn[45]\u001b[39m\u001b[32m, line 11\u001b[39m, in \u001b[36mStudent.show\u001b[39m\u001b[34m(self)\u001b[39m\n\u001b[32m     10\u001b[39m \u001b[38;5;28;01mdef\u001b[39;00m\u001b[38;5;250m \u001b[39m\u001b[34mshow\u001b[39m(\u001b[38;5;28mself\u001b[39m):\n\u001b[32m---> \u001b[39m\u001b[32m11\u001b[39m     \u001b[38;5;28mprint\u001b[39m(\u001b[33m'\u001b[39m\u001b[33mStudent Details:\u001b[39m\u001b[33m'\u001b[39m, \u001b[38;5;28mself\u001b[39m.name, \u001b[38;5;28;43mself\u001b[39;49m\u001b[43m.\u001b[49m\u001b[43mroll_no\u001b[49m)\n",
      "\u001b[31mAttributeError\u001b[39m: 'Student' object has no attribute 'roll_no'"
     ]
    }
   ],
   "source": [
    "class Student:\n",
    "    # contructor\n",
    "    def __init__(self, name, roll_no, age):\n",
    "        # public instance variable\n",
    "        self.name = name\n",
    "        # private instance variables to restrict access\n",
    "        # avoid direct data modific        self.__roll_no = roll_noroll_no\n",
    "        self.age = age\n",
    "\n",
    "    def show(self):\n",
    "        print('Student Details:', self.name, self.roll_no)\n",
    "\n",
    "    # getter methods\n",
    "    def get_roll_no(self):\n",
    "        return self.roll_no\n",
    "\n",
    "    # setter method to modify instance varaible\n",
    "    # condition to allow data modification with rules\n",
    "    def set_roll_no(self, number):\n",
    "        if number > 50:\n",
    "            print('Invalid roll no. Please set correct roll number')\n",
    "        else:\n",
    "            self.roll_no = number\n",
    "\n",
    "# object instanc=tiation\n",
    "info = Student('David Usim', 10, 15)\n",
    "\n",
    "# before Modify\n",
    "info.show()\n",
    "\n",
    "# changing roll number using setter\n",
    "info.set_roll_no(120)\n",
    "\n",
    "\n",
    "info.set_roll_no(25)\n",
    "info.show()"
   ]
  },
  {
   "cell_type": "markdown",
   "metadata": {},
   "source": [
    "## Class Project I "
   ]
  },
  {
   "cell_type": "markdown",
   "metadata": {},
   "source": [
    "You have been contracted by the Registrar of Pan-Atlantic University (PAU) as an expert OOP developer to access the Student Information System (SIS) of PAU Student Council, inorder to classify the students grades, according to their age, into 3 categories; the pirates, the yankees and the bulls.\n",
    "\n",
    "Should you choose to accept this task, develop an OOP program that reads data from the SIS.csv file as attached, following the instructions below: \n",
    "\n",
    "<b>Instructions:</b>\n",
    "    <ul><li>If the student age is greater than 14 and less than 18, create a .csv file for that category called <b>The_Pirates</b> and display it.</li><li>\n",
    "    If the student age is greater than 18 and less than 22, create a file for that category called <b>The_Yankees</b> and display it.</li><li>\n",
    "    If the student age is greater than 22 and less than 25 create a file for that category called <b>The_Bulls</b> and display it.</li><li>\n",
    "    If the student age is greater than 25 <b>encapsulate the request</b> and use a getter method to return an error message\".</li></ul>\n"
   ]
  },
  {
   "cell_type": "code",
   "execution_count": null,
   "metadata": {},
   "outputs": [],
   "source": [
    "import pandas as pd\n",
    "df = pd.read_csv('SIS.csv')\n",
    "df"
   ]
  },
  {
   "cell_type": "code",
   "execution_count": null,
   "metadata": {},
   "outputs": [],
   "source": []
  }
 ],
 "metadata": {
  "kernelspec": {
   "display_name": "Python 3",
   "language": "python",
   "name": "python3"
  },
  "language_info": {
   "codemirror_mode": {
    "name": "ipython",
    "version": 3
   },
   "file_extension": ".py",
   "mimetype": "text/x-python",
   "name": "python",
   "nbconvert_exporter": "python",
   "pygments_lexer": "ipython3",
   "version": "3.13.3"
  }
 },
 "nbformat": 4,
 "nbformat_minor": 4
}

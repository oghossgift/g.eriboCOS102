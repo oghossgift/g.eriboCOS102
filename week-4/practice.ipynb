{
 "cells": [
  {
   "cell_type": "markdown",
   "id": "6ceefc9c",
   "metadata": {},
   "source": [
    "PRACTICE 1"
   ]
  },
  {
   "cell_type": "code",
   "execution_count": 2,
   "id": "2b90dfba",
   "metadata": {},
   "outputs": [
    {
     "name": "stdout",
     "output_type": "stream",
     "text": [
      "I'm the first call to user defined function!\n",
      "Again second to call to the same function\n"
     ]
    }
   ],
   "source": [
    "def printme(str):\n",
    "    #This is a print function\n",
    "    print(str)\n",
    "    return\n",
    "\n",
    "printme(\"I'm the first call to user defined function!\")\n",
    "printme(\"Again second to call to the same function\")"
   ]
  },
  {
   "cell_type": "markdown",
   "id": "4784b48e",
   "metadata": {},
   "source": [
    "PRACTICE 2"
   ]
  },
  {
   "cell_type": "code",
   "execution_count": 5,
   "id": "06d95e75",
   "metadata": {},
   "outputs": [
    {
     "name": "stdout",
     "output_type": "stream",
     "text": [
      "Values inside the function:  [10, 20, 30, [1, 2, 3, 4]]\n",
      "Values outside the function:  [10, 20, 30, [1, 2, 3, 4]]\n"
     ]
    }
   ],
   "source": [
    "def changeme(mylist):\n",
    "    #This changes a past list\n",
    "    mylist.append([1,2,3,4])\n",
    "    print(\"Values inside the function: \", mylist)\n",
    "    return\n",
    "mylist = [10,20,30]\n",
    "changeme(mylist)\n",
    "print(\"Values outside the function: \",mylist)\n"
   ]
  },
  {
   "cell_type": "markdown",
   "id": "d45e2bec",
   "metadata": {},
   "source": [
    "PRACTICE 3"
   ]
  },
  {
   "cell_type": "code",
   "execution_count": 7,
   "id": "472dee7d",
   "metadata": {},
   "outputs": [
    {
     "name": "stdout",
     "output_type": "stream",
     "text": [
      "Values inside the function:  [1, 2, 3, 4]\n",
      "Values outside the function:  [10, 20, 30]\n"
     ]
    }
   ],
   "source": [
    "def changeme( mylist ):\n",
    "    #This changes a passed list\n",
    "    mylist = [1,2,3,4]\n",
    "    print(\"Values inside the function: \", mylist)\n",
    "    return\n",
    "mylist = [10,20,30]\n",
    "changeme(mylist)\n",
    "print(\"Values outside the function: \", mylist)"
   ]
  },
  {
   "cell_type": "markdown",
   "id": "2544467a",
   "metadata": {},
   "source": [
    "PRACTICE 4"
   ]
  },
  {
   "cell_type": "code",
   "execution_count": 8,
   "id": "8c12ad29",
   "metadata": {},
   "outputs": [
    {
     "name": "stdout",
     "output_type": "stream",
     "text": [
      "My string\n"
     ]
    }
   ],
   "source": [
    "def printme(str):\n",
    "    #This prints a passed string\n",
    "    print(str)\n",
    "    return\n",
    "printme(str = \"My string\")"
   ]
  },
  {
   "cell_type": "markdown",
   "id": "ac2d7b21",
   "metadata": {},
   "source": [
    "PRACTICE 5"
   ]
  },
  {
   "cell_type": "code",
   "execution_count": 11,
   "id": "49380078",
   "metadata": {},
   "outputs": [
    {
     "name": "stdout",
     "output_type": "stream",
     "text": [
      "Name:  miki\n",
      "Age:  50\n"
     ]
    }
   ],
   "source": [
    "def printinfo(name,age):\n",
    "    #Test function\n",
    "    print(\"Name: \", name)\n",
    "    print(\"Age: \", age)\n",
    "    return\n",
    "printinfo(age=50, name=\"miki\")"
   ]
  },
  {
   "cell_type": "markdown",
   "id": "d3120155",
   "metadata": {},
   "source": [
    "PRACTICE 6"
   ]
  },
  {
   "cell_type": "code",
   "execution_count": 12,
   "id": "6b5bf054",
   "metadata": {},
   "outputs": [
    {
     "name": "stdout",
     "output_type": "stream",
     "text": [
      "Name:  miki\n",
      "Age:  50\n",
      "Name:  miki\n",
      "Age:  35\n"
     ]
    }
   ],
   "source": [
    "def printinfo(name,age= 35):\n",
    "    #Test function\n",
    "    print(\"Name: \", name)\n",
    "    print(\"Age: \", age)\n",
    "    return\n",
    "printinfo(age=50, name=\"miki\")\n",
    "printinfo(name=\"miki\")\n"
   ]
  },
  {
   "cell_type": "markdown",
   "id": "8128aff1",
   "metadata": {},
   "source": [
    "PRACTICE 7"
   ]
  },
  {
   "cell_type": "code",
   "execution_count": 14,
   "id": "4cccfab3",
   "metadata": {},
   "outputs": [
    {
     "name": "stdout",
     "output_type": "stream",
     "text": [
      "Output is: \n",
      "10\n",
      "Output is: \n",
      "70\n",
      "60\n"
     ]
    }
   ],
   "source": [
    "def printinfo(arg1,*vartuple):\n",
    "    #This is a est\n",
    "    print(\"Output is: \" )\n",
    "    print(arg1)\n",
    "    for var in vartuple :\n",
    "        print(var)\n",
    "        return\n",
    "printinfo(10)\n",
    "printinfo(70,60,50)"
   ]
  },
  {
   "cell_type": "markdown",
   "id": "4539d9a3",
   "metadata": {},
   "source": [
    "PRACTICE 8"
   ]
  },
  {
   "cell_type": "code",
   "execution_count": 15,
   "id": "d669a158",
   "metadata": {},
   "outputs": [
    {
     "name": "stdout",
     "output_type": "stream",
     "text": [
      "Inside the function local total:  30\n",
      "Outside the function global total:  50\n"
     ]
    }
   ],
   "source": [
    "total= 50\n",
    "def sum(arg1,arg2):\n",
    "    #Add both the parameters\n",
    "    total = arg1 + arg2\n",
    "    print(\"Inside the function local total: \", total)\n",
    "    return total\n",
    "\n",
    "sum(10,20)\n",
    "print(\"Outside the function global total: \", total)"
   ]
  },
  {
   "cell_type": "markdown",
   "id": "d11349cd",
   "metadata": {},
   "source": [
    "PRACTICE 9"
   ]
  },
  {
   "cell_type": "code",
   "execution_count": null,
   "id": "19f0e5bc",
   "metadata": {},
   "outputs": [
    {
     "name": "stdout",
     "output_type": "stream",
     "text": [
      "Lawal Edward Tolu Tina\n",
      "Mary\n"
     ]
    }
   ],
   "source": [
    "def swap(x,y):\n",
    "    global a\n",
    "    a = \"Lawal\"\n",
    "    x,y = y,x\n",
    "    b = \"Chris\"\n",
    "    b = \"Edward\"\n",
    "    c = \"Lola\"\n",
    "    print(a,b,x,y)\n",
    "    a = \"Mary\"\n",
    "swap(\"Tina\", \"Tolu\")\n",
    "print(a)\n",
    "\n"
   ]
  }
 ],
 "metadata": {
  "kernelspec": {
   "display_name": "Python 3",
   "language": "python",
   "name": "python3"
  },
  "language_info": {
   "codemirror_mode": {
    "name": "ipython",
    "version": 3
   },
   "file_extension": ".py",
   "mimetype": "text/x-python",
   "name": "python",
   "nbconvert_exporter": "python",
   "pygments_lexer": "ipython3",
   "version": "3.11.9"
  }
 },
 "nbformat": 4,
 "nbformat_minor": 5
}
